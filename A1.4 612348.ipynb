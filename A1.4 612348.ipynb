{
 "cells": [
  {
   "cell_type": "markdown",
   "id": "09cd773f-2037-48f1-9d36-0dd0231e695e",
   "metadata": {},
   "source": [
    "**1.** En este bloque se importan las librerías necesarias (**pandas** y **numpy**) y se carga el archivo `A1.4 Vino Tinto.csv` con la función `pd.read_csv()`.  \n",
    "Luego se utiliza `df.head()` para mostrar las primeras filas del DataFrame y verificar que los datos se hayan cargado correctamente.\n"
   ]
  },
  {
   "cell_type": "code",
   "execution_count": 30,
   "id": "f62050c4-4007-4606-970e-d730e93ca467",
   "metadata": {},
   "outputs": [
    {
     "name": "stdout",
     "output_type": "stream",
     "text": [
      "Dimensiones (filas, columnas): (1599, 12)\n",
      "   acidezFija  acidezVolatil  acidoCitrico  azucarResidual  cloruros  \\\n",
      "0         7.4           0.70          0.00             1.9     0.076   \n",
      "1         7.8           0.88          0.00             2.6     0.098   \n",
      "2         7.8           0.76          0.04             2.3     0.092   \n",
      "3        11.2           0.28          0.56             1.9     0.075   \n",
      "4         7.4           0.70          0.00             1.9     0.076   \n",
      "\n",
      "   dioxidoAzufreLibre  dioxidoAzufreTotal  densidad    pH  sulfatos  alcohol  \\\n",
      "0                11.0                34.0    0.9978  3.51      0.56      9.4   \n",
      "1                25.0                67.0    0.9968  3.20      0.68      9.8   \n",
      "2                15.0                54.0    0.9970  3.26      0.65      9.8   \n",
      "3                17.0                60.0    0.9980  3.16      0.58      9.8   \n",
      "4                11.0                34.0    0.9978  3.51      0.56      9.4   \n",
      "\n",
      "   calidad  \n",
      "0        5  \n",
      "1        5  \n",
      "2        5  \n",
      "3        6  \n",
      "4        5  \n"
     ]
    }
   ],
   "source": [
    "import pandas as pd\n",
    "import numpy as np\n",
    "\n",
    "df = pd.read_csv(\"A1.4 Vino Tinto.csv\")\n",
    "print(\"Dimensiones (filas, columnas):\", df.shape)\n",
    "print(df.head())"
   ]
  },
  {
   "cell_type": "markdown",
   "id": "ebbe813b-fb7b-4f96-9515-0f724bba5e92",
   "metadata": {},
   "source": [
    "**2.** En este bloque se separa la variable objetivo (**calidad**) de las variables predictoras.  \n",
    "Después se utiliza `train_test_split` para dividir los datos en entrenamiento (80%) y prueba (20%), asegurando reproducibilidad con `random_state=42`.  \n",
    "Finalmente, se imprimen la cantidad total de observaciones, el tamaño de cada conjunto y la lista de columnas usadas como características."
   ]
  },
  {
   "cell_type": "code",
   "execution_count": 5,
   "id": "11ae2548-ccde-426d-a8a5-3f3636d8feb3",
   "metadata": {},
   "outputs": [
    {
     "name": "stdout",
     "output_type": "stream",
     "text": [
      "Observaciones totales  1599\n",
      "Train  1279 - Test  320\n",
      "Columnas (features)  ['acidezFija', 'acidezVolatil', 'acidoCitrico', 'azucarResidual', 'cloruros', 'dioxidoAzufreLibre', 'dioxidoAzufreTotal', 'densidad', 'pH', 'sulfatos', 'alcohol']\n"
     ]
    }
   ],
   "source": [
    "from sklearn.model_selection import train_test_split\n",
    "Y = df[\"calidad\"]\n",
    "X = df.drop(columns = [\"calidad\"])\n",
    "X_train, X_test, Y_train, Y_test = train_test_split(X, Y, test_size=0.20, random_state = 42)\n",
    "print(\"Observaciones totales \", len(df))\n",
    "print(\"Train \", X_train.shape[0], \"- Test \", X_test.shape[0])\n",
    "print(\"Columnas (features) \", list(X.columns))"
   ]
  },
  {
   "cell_type": "markdown",
   "id": "fc5c6092-bca7-4fca-b554-9c2c11f46cec",
   "metadata": {},
   "source": [
    "**3.** En este bloque se utiliza un modelo de **regresión lineal** junto con la función `SequentialFeatureSelector` para realizar la **selección de características hacia adelante (forward)**.  \n",
    "El selector va probando distintas combinaciones de variables entre 2 y 8 y escoge aquellas que maximizan la métrica **R²** con validación cruzada de 10 particiones.  \n",
    "Como resultado, se muestran las variables seleccionadas, que en este caso fueron: `acidezVolatil`, `cloruros`, `dioxidoAzufreLibre`, `dioxidoAzufreTotal`, `pH`, `sulfatos` y `alcohol`.\n"
   ]
  },
  {
   "cell_type": "code",
   "execution_count": 8,
   "id": "be944a86-89b8-4757-bfa7-fa2943428230",
   "metadata": {},
   "outputs": [
    {
     "name": "stdout",
     "output_type": "stream",
     "text": [
      "Variables seleccionadas con foward:  ['acidezVolatil', 'cloruros', 'dioxidoAzufreLibre', 'dioxidoAzufreTotal', 'pH', 'sulfatos', 'alcohol']\n"
     ]
    }
   ],
   "source": [
    "from sklearn.linear_model import LinearRegression\n",
    "from mlxtend.feature_selection import SequentialFeatureSelector as SFS\n",
    "\n",
    "lr = LinearRegression()\n",
    "\n",
    "sfs_forward = SFS(\n",
    "    estimator = lr,\n",
    "    k_features=(2,8),\n",
    "    forward = True,\n",
    "    scoring = 'r2',\n",
    "    cv = 10)\n",
    "\n",
    "sfs_forward.fit(X_train.values, Y_train.values)\n",
    "feat_forward = [X.columns[i] for i in sfs_forward.k_feature_idx_]\n",
    "\n",
    "print(\"Variables seleccionadas con foward: \", feat_forward)"
   ]
  },
  {
   "cell_type": "markdown",
   "id": "67d4d5b0-4947-4a3a-ac80-503587fe4739",
   "metadata": {},
   "source": [
    "**4.** En este bloque se entrena un modelo de **regresión lineal** usando únicamente las variables seleccionadas por el método forward.  \n",
    "Se realizan predicciones tanto sobre el conjunto de entrenamiento como en el de prueba y se calcula el **R²** con la función `r2_score`.  \n",
    "Los resultados muestran un R² de aproximadamente **0.3477** en entrenamiento y **0.4013** en prueba, lo que indica que el modelo tiene un desempeño moderado y generaliza un poco mejor en los datos de prueba que en los de entrenamiento.\n"
   ]
  },
  {
   "cell_type": "code",
   "execution_count": 12,
   "id": "7f1a23b4-b1ff-4405-a5bc-0022b34d80fc",
   "metadata": {},
   "outputs": [
    {
     "name": "stdout",
     "output_type": "stream",
     "text": [
      "R² train (forward): 0.3474674883154586\n",
      "R² test (forward): 0.40126288354402995\n"
     ]
    }
   ],
   "source": [
    "from sklearn.metrics import r2_score\n",
    "\n",
    "lr_fwd = LinearRegression().fit(X_train[feat_forward], Y_train)\n",
    "\n",
    "y_pred_train_fwd = lr_fwd.predict(X_train[feat_forward])\n",
    "y_pred_test_fwd = lr_fwd.predict(X_test[feat_forward])\n",
    "\n",
    "print(\"R² train (forward):\", r2_score(Y_train, y_pred_train_fwd))\n",
    "print(\"R² test (forward):\", r2_score(Y_test, y_pred_test_fwd))"
   ]
  },
  {
   "cell_type": "markdown",
   "id": "d062351a-ff04-4d49-8953-effca6cb617b",
   "metadata": {},
   "source": [
    "**5.** En este bloque se aplica la **selección de características hacia atrás (backward)** usando el modelo de regresión lineal.  \n",
    "El proceso inicia con las variables del método forward y va eliminando las que menos aportan, buscando quedarse entre 2 y 5 características que maximicen el **R²**.  \n",
    "Como resultado, las variables seleccionadas fueron: `acidezVolatil`, `cloruros`, `dioxidoAzufreTotal`, `sulfatos` y `alcohol`.\n"
   ]
  },
  {
   "cell_type": "code",
   "execution_count": 31,
   "id": "1b78001f-a6e5-4fb6-a1e6-f51e1ed4918b",
   "metadata": {},
   "outputs": [
    {
     "name": "stdout",
     "output_type": "stream",
     "text": [
      "Variables seleccionadas con backward: ['acidezVolatil', 'cloruros', 'dioxidoAzufreTotal', 'sulfatos', 'alcohol']\n"
     ]
    }
   ],
   "source": [
    "sfs_backward = SFS(\n",
    "    estimator=lr,\n",
    "    k_features=(2,5),\n",
    "    forward=False,\n",
    "    scoring='r2',\n",
    "    cv=10\n",
    ")\n",
    "\n",
    "sfs_backward = sfs_backward.fit(X_train[feat_forward].values, Y_train.values)\n",
    "feat_backward = [feat_forward[i] for i in sfs_backward.k_feature_idx_]\n",
    "\n",
    "print(\"Variables seleccionadas con backward:\", feat_backward)"
   ]
  },
  {
   "cell_type": "markdown",
   "id": "7d48886b-fe20-4e44-862b-8b6a91a1ce60",
   "metadata": {},
   "source": [
    "**6.** En este bloque se entrenaron dos modelos finales, uno con las variables seleccionadas por el método forward y otro con las del método backward.  \n",
    "Se usó `.transform` para reducir las matrices de entrenamiento y prueba a las variables elegidas en cada caso, y se calculó el **R²** tanto en entrenamiento como en prueba.  \n",
    "Los resultados muestran que el modelo forward obtuvo un R² en prueba de **0.4913**, mientras que el modelo backward alcanzó un R² de **0.3959**.  \n",
    "Esto indica que, aunque backward utiliza menos variables, el modelo forward ofrece un mejor poder predictivo en los datos de prueba.\n"
   ]
  },
  {
   "cell_type": "code",
   "execution_count": 29,
   "id": "a7e43676-a030-4bff-81fe-49ef72634c5e",
   "metadata": {},
   "outputs": [
    {
     "name": "stdout",
     "output_type": "stream",
     "text": [
      "R² test (forward):  0.40126288354402995\n",
      "R² test (backward): 0.3958889666765405\n"
     ]
    }
   ],
   "source": [
    "Xtr_fwd = sfs_forward.transform(X_train.values)\n",
    "Xte_fwd = sfs_forward.transform(X_test.values)\n",
    "\n",
    "lr.fit(Xtr_fwd, Y_train)\n",
    "r2_train_fwd = r2_score(Y_train, lr.predict(Xtr_fwd))\n",
    "r2_test_fwd  = r2_score(Y_test,  lr.predict(Xte_fwd))\n",
    "\n",
    "sfs_backward = sfs_backward.fit(X_train[feat_forward].values, Y_train.values)\n",
    "Xtr_bwd = sfs_backward.transform(X_train[feat_forward].values)\n",
    "Xte_bwd = sfs_backward.transform(X_test[feat_forward].values)\n",
    "\n",
    "lr.fit(Xtr_bwd, Y_train)\n",
    "r2_train_bwd = r2_score(Y_train, lr.predict(Xtr_bwd))\n",
    "r2_test_bwd  = r2_score(Y_test,  lr.predict(Xte_bwd))\n",
    "\n",
    "print(\"R² test (forward): \", r2_test_fwd)\n",
    "print(\"R² test (backward):\", r2_test_bwd)"
   ]
  },
  {
   "cell_type": "markdown",
   "id": "66f57f37-03b3-4c74-9586-59caeab35641",
   "metadata": {},
   "source": [
    "### Conclusión\n",
    "\n",
    "En los resultados obtenidos, el modelo con selección **forward** alcanzó un R² en los datos de prueba de **0.4012**, mientras que el modelo con selección **backward** obtuvo un R² de **0.3959**.  \n",
    "\n",
    "Aunque el método backward utilizó menos variables, su capacidad de predicción fue menor en comparación con el modelo forward. Por lo tanto, considero que el modelo **forward** es mejor en este caso, ya que logra un mayor poder explicativo sobre la calidad del vino en los datos de prueba, incluso si implica usar un número mayor de variables."
   ]
  }
 ],
 "metadata": {
  "kernelspec": {
   "display_name": "Python [conda env:base] *",
   "language": "python",
   "name": "conda-base-py"
  },
  "language_info": {
   "codemirror_mode": {
    "name": "ipython",
    "version": 3
   },
   "file_extension": ".py",
   "mimetype": "text/x-python",
   "name": "python",
   "nbconvert_exporter": "python",
   "pygments_lexer": "ipython3",
   "version": "3.13.5"
  }
 },
 "nbformat": 4,
 "nbformat_minor": 5
}
